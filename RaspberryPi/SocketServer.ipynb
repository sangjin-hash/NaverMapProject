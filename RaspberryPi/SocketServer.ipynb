{
 "cells": [
  {
   "cell_type": "code",
   "execution_count": null,
   "id": "3fe8b0f2",
   "metadata": {
    "scrolled": true
   },
   "outputs": [
    {
     "name": "stderr",
     "output_type": "stream",
     "text": [
      "\n",
      "(eog:8674): Gtk-CRITICAL **: 17:07:23.035: gtk_cell_area_apply_attributes: assertion 'GTK_IS_CELL_AREA (area)' failed\n",
      "\n",
      "(eog:8674): Gtk-CRITICAL **: 17:07:23.035: gtk_cell_area_foreach: assertion 'GTK_IS_CELL_AREA (area)' failed\n",
      "\n",
      "(eog:8674): Gtk-CRITICAL **: 17:10:11.204: gtk_cell_area_apply_attributes: assertion 'GTK_IS_CELL_AREA (area)' failed\n",
      "\n",
      "(eog:8674): Gtk-CRITICAL **: 17:10:11.204: gtk_cell_area_foreach: assertion 'GTK_IS_CELL_AREA (area)' failed\n",
      "\n",
      "(eog:8674): Gtk-CRITICAL **: 17:23:10.045: gtk_cell_area_apply_attributes: assertion 'GTK_IS_CELL_AREA (area)' failed\n",
      "\n",
      "(eog:8674): Gtk-CRITICAL **: 17:23:10.045: gtk_cell_area_foreach: assertion 'GTK_IS_CELL_AREA (area)' failed\n",
      "\n",
      "(eog:8674): Gtk-CRITICAL **: 17:23:20.464: gtk_cell_area_apply_attributes: assertion 'GTK_IS_CELL_AREA (area)' failed\n",
      "\n",
      "(eog:8674): Gtk-CRITICAL **: 17:23:20.464: gtk_cell_area_foreach: assertion 'GTK_IS_CELL_AREA (area)' failed\n",
      "\n",
      "(eog:8674): Gtk-CRITICAL **: 17:23:25.105: gtk_cell_area_apply_attributes: assertion 'GTK_IS_CELL_AREA (area)' failed\n",
      "\n",
      "(eog:8674): Gtk-CRITICAL **: 17:23:25.105: gtk_cell_area_foreach: assertion 'GTK_IS_CELL_AREA (area)' failed\n"
     ]
    }
   ],
   "source": [
    "import io\n",
    "import socket\n",
    "import struct\n",
    "from PIL import Image\n",
    "\n",
    "src = \"저장할 경로\"\n",
    "\n",
    "# Start a socket listening for connections on 0.0.0.0:8000 (0.0.0.0 means\n",
    "# all interfaces)\n",
    "server_socket = socket.socket()\n",
    "server_socket.bind(('0.0.0.0', 4534))\n",
    "server_socket.listen(0)\n",
    " \n",
    "# Accept a single connection and make a file-like object out of it\n",
    "connection = server_socket.accept()[0].makefile('rb')\n",
    "i = 0\n",
    "try:\n",
    "    while True:\n",
    "        # Read the length of the image as a 32-bit unsigned int. If the\n",
    "        # length is zero, quit the loop\n",
    "        image_len = struct.unpack('<L', connection.read(struct.calcsize('<L')))[0]\n",
    "        if not image_len:\n",
    "            break\n",
    "        # Construct a stream to hold the image data and read the image\n",
    "        # data from the connection\n",
    "        image_stream = io.BytesIO()\n",
    "        image_stream.write(connection.read(image_len))\n",
    "        # Rewind the stream, open it as an image with PIL and do some\n",
    "        # processing on it\n",
    "        image_stream.seek(0)\n",
    "        image = Image.open(image_stream)\n",
    "        image.save(src+str(i)+'.jpg')\n",
    "        i+=1\n",
    "        image.verify()\n",
    "finally:\n",
    "    connection.close()\n",
    "    server_socket.close()\n"
   ]
  },
  {
   "cell_type": "code",
   "execution_count": null,
   "id": "60aab3bf",
   "metadata": {},
   "outputs": [],
   "source": []
  },
  {
   "cell_type": "code",
   "execution_count": null,
   "id": "f3137b88",
   "metadata": {},
   "outputs": [],
   "source": []
  }
 ],
 "metadata": {
  "kernelspec": {
   "display_name": "Python 3 (ipykernel)",
   "language": "python",
   "name": "python3"
  },
  "language_info": {
   "codemirror_mode": {
    "name": "ipython",
    "version": 3
   },
   "file_extension": ".py",
   "mimetype": "text/x-python",
   "name": "python",
   "nbconvert_exporter": "python",
   "pygments_lexer": "ipython3",
   "version": "3.8.10"
  }
 },
 "nbformat": 4,
 "nbformat_minor": 5
}
